{
 "cells": [
  {
   "cell_type": "code",
   "execution_count": null,
   "metadata": {},
   "outputs": [],
   "source": [
    "#BUSCO\n",
    "\"\"\"BUSCO offers a way to quantify how well a dataset captures the expected gene content for a given group of organisms, \n",
    "providing valuable insights into the data's completeness and the quality of the assembly or annotation effort.\"\"\"\n",
    "\n",
    "import subprocess\n",
    "\n",
    "def run_busco(input_Trinity_Fasta_Directory, output_name, mode, lineage_path):\n",
    "    \"\"\"\n",
    "    Function to run BUSCO analysis using subprocess to call the BUSCO command.\n",
    "\n",
    "    Parameters:\n",
    "    - input_file: Path to the input file (genome, proteins, or transcriptome in FASTA format).\n",
    "    - output_name: Desired name for the output files.\n",
    "    - mode: Mode to run BUSCO ('genome', 'proteins', or 'transcriptome'). ** Considering simply replacing monde by transcriptome in our case.\n",
    "    - lineage_path: Path to the chosen lineage dataset.\n",
    "    \"\"\"\n",
    "    busco_cmd = f\"busco -i {input_Trinity_Fasta_Directory} -o {output_name} -m {mode} -l {lineage_path}\"\n",
    "    try:\n",
    "        subprocess.run(busco_cmd, check=True, shell=True)\n",
    "        print(f\"BUSCO analysis completed successfully. Check the output in {output_name}\")\n",
    "    except subprocess.CalledProcessError as e:\n",
    "        print(f\"Error in running BUSCO: {e}\")\n",
    "\n",
    "if __name__ == \"__main__\":\n",
    "    # User inputs\n",
    "    output_name = input(\"Enter a name for the output: \")\n",
    "    mode = input(\"Enter the mode (genome, proteins, transcriptome): \") #Transcriptome *Maybe just replace with transcriptome\n",
    "    lineage_path = input(\"Enter the path to the lineage dataset: \") #Determined in the following sript *Add a line where the output fro the last fucntion is used as input for thsi one. \n",
    "\n",
    "    # Running BUSCO\n",
    "    run_busco(input_file, output_name, mode, lineage_path)"
   ]
  },
  {
   "cell_type": "code",
   "execution_count": null,
   "metadata": {},
   "outputs": [],
   "source": [
    "\"\"\"Function to determine the Lineage to use in BUSCO *This code will be used before the code you see above,because it's output\"\"\""
   ]
  },
  {
   "cell_type": "code",
   "execution_count": null,
   "metadata": {},
   "outputs": [],
   "source": [
    "#TRINITYSTATS\n",
    "\n",
    "import subprocess\n",
    "\n",
    "def run_trinity_stats(trinity_fasta_path, output_file_path):\n",
    "    \"\"\"\n",
    "    Runs the TrinityStats.pl script on a specified Trinity FASTA file to give you the stats on the trinity assembly\n",
    "    and write output to a file.\n",
    "\n",
    "    Parameters:\n",
    "    - trinity_fasta_path: Path to the Trinity.fasta file.\n",
    "    - output_file_path: Path to the output file\n",
    "    \"\"\"\n",
    "\n",
    "    # Construct the command to run\n",
    "    command = ['TrinityStats.pl', trinity_fasta_path]\n",
    "\n",
    "    try:\n",
    "        # Execute the command\n",
    "        result = subprocess.run(command, check=True, stdout=subprocess.PIPE, stderr=subprocess.PIPE, text=True)\n",
    "\n",
    "        # Write the output to the specified output file\n",
    "        with open(output_file_path, 'w') as output_file:\n",
    "            output_file.write(result.stdout)\n",
    "\n",
    "        print(f\"TrinityStats.pl output has been written to {output_file_path}\")\n",
    "\n",
    "    except subprocess.CalledProcessError as e:\n",
    "        # Print any errors to stderr\n",
    "        print(\"Error running TrinityStats.pl:\", e.stderr)\n",
    "\n",
    "\n",
    "#Don't think we require this part of the code, but just in case\n",
    "'''if __name__ == \"__main__\":\n",
    "    # Prompt the user for the path to their Trinity.fasta file\n",
    "    trinity_fasta_path = input(\"Enter the path to your Trinity.fasta file: \")\n",
    "    \n",
    "    # Run TrinityStats\n",
    "    run_trinity_stats(trinity_fasta_path)'''"
   ]
  }
 ],
 "metadata": {
  "language_info": {
   "name": "python"
  }
 },
 "nbformat": 4,
 "nbformat_minor": 2
}
